{
 "cells": [
  {
   "cell_type": "code",
   "execution_count": 4,
   "metadata": {},
   "outputs": [],
   "source": [
    "from time import sleep\n",
    "\n",
    "from pyspark.sql import SparkSession\n",
    "from pyspark.sql.functions import *\n",
    "from pyspark.sql import functions as F"
   ]
  },
  {
   "cell_type": "code",
   "execution_count": 5,
   "metadata": {},
   "outputs": [],
   "source": [
    "spark = SparkSession. \\\n",
    "    builder. \\\n",
    "    appName(\"Data Sources\"). \\\n",
    "    master(\"local\"). \\\n",
    "    getOrCreate()\n",
    "spark.sparkContext.setLogLevel(\"WARN\")"
   ]
  },
  {
   "cell_type": "code",
   "execution_count": 6,
   "metadata": {},
   "outputs": [],
   "source": [
    "trips_df = spark.read.csv('D:/ECONOMICS/Taxi_Trips.csv', sep=',', header=True, inferSchema=True)"
   ]
  },
  {
   "cell_type": "code",
   "execution_count": 7,
   "metadata": {},
   "outputs": [],
   "source": [
    "trips = trips_df.withColumn(\"trip_start\", F.to_timestamp(col(\"Trip Start Timestamp\"), \"MM/dd/yyyy hh:mm:ss a\"))\n",
    "trips.createOrReplaceTempView('taxitrip')"
   ]
  },
  {
   "cell_type": "code",
   "execution_count": 11,
   "metadata": {},
   "outputs": [
    {
     "ename": "TypeError",
     "evalue": "'StructType' object is not callable",
     "output_type": "error",
     "traceback": [
      "\u001b[1;31m---------------------------------------------------------------------------\u001b[0m",
      "\u001b[1;31mTypeError\u001b[0m                                 Traceback (most recent call last)",
      "\u001b[1;32m~\\AppData\\Local\\Temp\\ipykernel_2880\\2330457348.py\u001b[0m in \u001b[0;36m<module>\u001b[1;34m\u001b[0m\n\u001b[1;32m----> 1\u001b[1;33m \u001b[0mtrips\u001b[0m\u001b[1;33m.\u001b[0m\u001b[0mschema\u001b[0m\u001b[1;33m(\u001b[0m\u001b[1;33m)\u001b[0m\u001b[1;33m\u001b[0m\u001b[1;33m\u001b[0m\u001b[0m\n\u001b[0m",
      "\u001b[1;31mTypeError\u001b[0m: 'StructType' object is not callable"
     ]
    }
   ],
   "source": [
    "trips.schema()"
   ]
  },
  {
   "cell_type": "code",
   "execution_count": 10,
   "metadata": {},
   "outputs": [
    {
     "name": "stdout",
     "output_type": "stream",
     "text": [
      "+----------+--------------+\n",
      "|trip_month|count(Trip ID)|\n",
      "+----------+--------------+\n",
      "|      NULL|             5|\n",
      "|         1|        215752|\n",
      "|         2|        166104|\n",
      "|         3|         74085|\n",
      "|         4|        820846|\n",
      "|         5|       1537021|\n",
      "|         6|        670191|\n",
      "|         7|         89630|\n",
      "|         8|         79904|\n",
      "|         9|        496784|\n",
      "|        10|        554199|\n",
      "|        11|        263255|\n",
      "|        12|        144619|\n",
      "+----------+--------------+\n",
      "\n"
     ]
    }
   ],
   "source": [
    "# Количество поезок по месяцам\n",
    "trips_by_month = spark.sql(\"\\\n",
    "                SELECT \\\n",
    "                    month(trip_start) as `trip_month`, COUNT(`Trip ID`) \\\n",
    "                FROM taxitrip GROUP BY `trip_month` \\\n",
    "                ORDER BY `trip_month` ASC\")\n",
    "trips_by_month.show()"
   ]
  },
  {
   "cell_type": "code",
   "execution_count": 13,
   "metadata": {},
   "outputs": [
    {
     "name": "stdout",
     "output_type": "stream",
     "text": [
      "+--------------------+--------------------+\n",
      "|             Company|        Total Income|\n",
      "+--------------------+--------------------+\n",
      "|           Flash Cab|3.3505499319999713E7|\n",
      "|Taxi Affiliation ...|   9013466.020000141|\n",
      "|Chicago Carriage ...|   7744671.869999993|\n",
      "|            Sun Taxi|   5640038.470000002|\n",
      "|    Medallion Leasin|   5068980.870000006|\n",
      "|        City Service|   4440119.959999998|\n",
      "|          Yellow Cab|  3918943.4899999867|\n",
      "|Star North Manage...|   2587820.399999989|\n",
      "|Blue Ribbon Taxi ...|  2049790.7399999946|\n",
      "|Taxi Affiliation ...|  2015423.4599999995|\n",
      "+--------------------+--------------------+\n",
      "\n"
     ]
    }
   ],
   "source": [
    "# TOP10 с максимальной выручкой\n",
    "top10 = spark.sql(\"\\\n",
    "                SELECT \\\n",
    "                    Company, SUM(`Trip Total`) AS `Total Income` \\\n",
    "                FROM taxitrip GROUP BY Company \\\n",
    "                ORDER BY `Total Income` DESC LIMIT 10\")\n",
    "top10.show()"
   ]
  },
  {
   "cell_type": "code",
   "execution_count": null,
   "metadata": {},
   "outputs": [],
   "source": [
    "dd = spark.sql(\"SELECT DIF, COUNT(`Trip ID`) FROM taxitrip GROUP BY `Company` LIMIT 10\")\n",
    "dd.show()"
   ]
  },
  {
   "cell_type": "code",
   "execution_count": null,
   "metadata": {},
   "outputs": [],
   "source": []
  }
 ],
 "metadata": {
  "kernelspec": {
   "display_name": "base",
   "language": "python",
   "name": "python3"
  },
  "language_info": {
   "codemirror_mode": {
    "name": "ipython",
    "version": 3
   },
   "file_extension": ".py",
   "mimetype": "text/x-python",
   "name": "python",
   "nbconvert_exporter": "python",
   "pygments_lexer": "ipython3",
   "version": "3.9.13"
  }
 },
 "nbformat": 4,
 "nbformat_minor": 2
}
