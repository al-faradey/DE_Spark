{
 "cells": [
  {
   "cell_type": "code",
   "execution_count": 4,
   "metadata": {},
   "outputs": [],
   "source": [
    "from time import sleep\n",
    "\n",
    "from pyspark.sql import SparkSession\n",
    "from pyspark.sql.functions import *\n",
    "from pyspark.sql import functions as F"
   ]
  },
  {
   "cell_type": "code",
   "execution_count": 5,
   "metadata": {},
   "outputs": [],
   "source": [
    "spark = SparkSession. \\\n",
    "    builder. \\\n",
    "    appName(\"Data Sources\"). \\\n",
    "    master(\"local\"). \\\n",
    "    getOrCreate()\n",
    "spark.sparkContext.setLogLevel(\"WARN\")"
   ]
  },
  {
   "cell_type": "code",
   "execution_count": 6,
   "metadata": {},
   "outputs": [],
   "source": [
    "trips_df = spark.read.csv('D:/ECONOMICS/Taxi_Trips.csv', sep=',', header=True, inferSchema=True)"
   ]
  },
  {
   "cell_type": "code",
   "execution_count": 7,
   "metadata": {},
   "outputs": [],
   "source": [
    "trips = trips_df.withColumn(\"trip_start\", F.to_timestamp(col(\"Trip Start Timestamp\"), \"MM/dd/yyyy hh:mm:ss a\"))\n",
    "trips.createOrReplaceTempView('taxitrip')"
   ]
  },
  {
   "cell_type": "code",
   "execution_count": 10,
   "metadata": {},
   "outputs": [
    {
     "name": "stdout",
     "output_type": "stream",
     "text": [
      "+----------+--------------+\n",
      "|trip_month|count(Trip ID)|\n",
      "+----------+--------------+\n",
      "|      NULL|             5|\n",
      "|         1|        215752|\n",
      "|         2|        166104|\n",
      "|         3|         74085|\n",
      "|         4|        820846|\n",
      "|         5|       1537021|\n",
      "|         6|        670191|\n",
      "|         7|         89630|\n",
      "|         8|         79904|\n",
      "|         9|        496784|\n",
      "|        10|        554199|\n",
      "|        11|        263255|\n",
      "|        12|        144619|\n",
      "+----------+--------------+\n",
      "\n"
     ]
    }
   ],
   "source": [
    "# Количество поезок по месяцам\n",
    "trips_by_month = spark.sql(\"\\\n",
    "                SELECT \\\n",
    "                    month(trip_start) as `trip_month`, COUNT(`Trip ID`) \\\n",
    "                FROM taxitrip GROUP BY `trip_month` \\\n",
    "                ORDER BY `trip_month` ASC\")\n",
    "trips_by_month.show()"
   ]
  },
  {
   "cell_type": "code",
   "execution_count": null,
   "metadata": {},
   "outputs": [],
   "source": [
    "dd = spark.sql(\"SELECT DIF, COUNT(`Trip ID`) FROM taxitrip GROUP BY `Company` LIMIT 10\")\n",
    "dd.show()"
   ]
  },
  {
   "cell_type": "code",
   "execution_count": null,
   "metadata": {},
   "outputs": [],
   "source": []
  }
 ],
 "metadata": {
  "kernelspec": {
   "display_name": "base",
   "language": "python",
   "name": "python3"
  },
  "language_info": {
   "codemirror_mode": {
    "name": "ipython",
    "version": 3
   },
   "file_extension": ".py",
   "mimetype": "text/x-python",
   "name": "python",
   "nbconvert_exporter": "python",
   "pygments_lexer": "ipython3",
   "version": "3.9.13"
  }
 },
 "nbformat": 4,
 "nbformat_minor": 2
}
